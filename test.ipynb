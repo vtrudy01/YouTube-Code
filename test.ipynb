{
 "cells": [
  {
   "cell_type": "code",
   "execution_count": null,
   "metadata": {},
   "outputs": [],
   "source": []
  },
  {
   "cell_type": "code",
   "execution_count": null,
   "metadata": {},
   "outputs": [],
   "source": [
    "#Altitude adjustment, can ignore for now\n",
    "df2['adj_hit_distance'] = df2['hit_distance_sc']+(df2['hit_distance_sc']*df2['Adj Percent'])\n",
    "\n",
    "#Calculating V: initial velocity using estimated hit distance and launch angle\n",
    "df2['V'] = np.sqrt(df2['adj_hit_distance']/((np.sin(2*df2['launch_angle']*np.pi/180))/32.174))\n",
    "\n",
    "#Vox: Initial horizontal velocity using initial velocity and launch angle\n",
    "df2['Vox'] = np.cos(df2['launch_angle']/180*np.pi)*df2['V']\n",
    "\n",
    "#Voy: Initial vertical velocity using initial velocity and launch angle\n",
    "df2['Voy'] = np.sin(df2['launch_angle']/180*np.pi)* df2['V']\n",
    "\n",
    "#Time it takes to reach distance of mega field dimension\n",
    "df3['t'] = df3['Distance']/df3['Vox']\n",
    "\n",
    "#Calculating vertical height at distance of mega wall\n",
    "df3['height_t'] = df3['plate_z']+(df3['Voy']*df3['t'])+0.5*(-32.174)*(df3['t']*df3['t'])\n",
    "\n",
    "#If vertical height is higher than wall height, then mega dong\n",
    "df3.loc[df3['height_t'] <= df3['Height'], 'mega_dong'] = 0\n",
    "df3.loc[df3['height_t'] > df3['Height'], 'mega_dong'] = 1"
   ]
  }
 ],
 "metadata": {
  "kernelspec": {
   "display_name": "Python 3",
   "language": "python",
   "name": "python3"
  },
  "language_info": {
   "name": "python",
   "version": "3.11.2"
  },
  "orig_nbformat": 4,
  "vscode": {
   "interpreter": {
    "hash": "1b436bf0f5e9c3dda9be38478d7017573e2d4bcb8cb78f4d7a2d69614545a07b"
   }
  }
 },
 "nbformat": 4,
 "nbformat_minor": 2
}
